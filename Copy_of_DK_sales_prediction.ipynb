{
  "nbformat": 4,
  "nbformat_minor": 0,
  "metadata": {
    "kernelspec": {
      "display_name": "Python 3",
      "language": "python",
      "name": "python3"
    },
    "language_info": {
      "codemirror_mode": {
        "name": "ipython",
        "version": 3
      },
      "file_extension": ".py",
      "mimetype": "text/x-python",
      "name": "python",
      "nbconvert_exporter": "python",
      "pygments_lexer": "ipython3",
      "version": "3.7.6"
    },
    "colab": {
      "name": "Copy of DK_sales_prediction.ipynb",
      "provenance": [],
      "collapsed_sections": [
        "jimfftDarAMW",
        "_x2pe64prAMz",
        "cgnC8XWrrANo",
        "cRZaJIkoQ-ro",
        "9YO2xiCaREK6",
        "nIvMxns3RLk_"
      ],
      "include_colab_link": true
    }
  },
  "cells": [
    {
      "cell_type": "markdown",
      "metadata": {
        "id": "view-in-github",
        "colab_type": "text"
      },
      "source": [
        "<a href=\"https://colab.research.google.com/github/aref-shabani/DK_sales_forecasting/blob/master/Copy_of_DK_sales_prediction.ipynb\" target=\"_parent\"><img src=\"https://colab.research.google.com/assets/colab-badge.svg\" alt=\"Open In Colab\"/></a>"
      ]
    },
    {
      "cell_type": "markdown",
      "metadata": {
        "id": "B71lQZX1rALp"
      },
      "source": [
        "# Digikala product forecast\n",
        "In this kernel we will read the dataset of Digikala which have information about sell history of products. Digikala want to suggest products to sellers to make available.\n",
        "\n",
        "### dataset contain:\n",
        "id\n",
        "\n",
        "date : information saved in this date\n",
        "\n",
        "seller : seller id\n",
        "\n",
        "item : product id\n",
        "\n",
        "sales : number of sales of the product\n",
        "\n",
        "## problem :\n",
        "#### make predict of product based on sales history of products\n"
      ]
    },
    {
      "cell_type": "markdown",
      "metadata": {
        "id": "2-hQJT4erALr"
      },
      "source": [
        "#### Necessary library"
      ]
    },
    {
      "cell_type": "code",
      "metadata": {
        "id": "SM6D0jA2rALs"
      },
      "source": [
        "import pandas as pd\n",
        "import numpy as np\n",
        "\n",
        "from sklearn.metrics import mean_squared_error\n",
        "from sklearn.model_selection import cross_val_score\n",
        "from sklearn.preprocessing import StandardScaler\n",
        "from sklearn.pipeline import Pipeline\n",
        "\n",
        "%matplotlib inline\n",
        "import matplotlib.pyplot as plt"
      ],
      "execution_count": null,
      "outputs": []
    },
    {
      "cell_type": "markdown",
      "metadata": {
        "id": "jghCOZmNrALw"
      },
      "source": [
        "#### Function: SMAPE, display_scores"
      ]
    },
    {
      "cell_type": "code",
      "metadata": {
        "id": "BY5Q5sHrrALx"
      },
      "source": [
        "def smape(A, F):\n",
        "    return 100/len(A) * np.sum(2 * np.abs(F - A) / (np.abs(A) + np.abs(F)))"
      ],
      "execution_count": null,
      "outputs": []
    },
    {
      "cell_type": "code",
      "metadata": {
        "id": "HTIBALlSu2P5"
      },
      "source": [
        "def display_scores(scores):\n",
        "  print(\"Scores:\", scores)\n",
        "  print(\"Mean:\", scores.mean())\n",
        "  print(\"Standard deviation:\", scores.std())"
      ],
      "execution_count": null,
      "outputs": []
    },
    {
      "cell_type": "markdown",
      "metadata": {
        "id": "3zJXumy3rAL0"
      },
      "source": [
        "#### Read files"
      ]
    },
    {
      "cell_type": "code",
      "metadata": {
        "id": "c7bh0iqQwTms",
        "outputId": "3600441d-7c38-4d86-acde-07ebd4f20caa",
        "colab": {
          "base_uri": "https://localhost:8080/",
          "height": 34
        }
      },
      "source": [
        "# when run this notebook in Google colab\n",
        "from google.colab import drive\n",
        "drive.mount('/content/drive')"
      ],
      "execution_count": null,
      "outputs": [
        {
          "output_type": "stream",
          "text": [
            "Mounted at /content/drive\n"
          ],
          "name": "stdout"
        }
      ]
    },
    {
      "cell_type": "code",
      "metadata": {
        "id": "gR7TtGnQw4NB"
      },
      "source": [
        "train_path = '/content/drive/My Drive/Colab Notebooks/train.csv'\n",
        "train = pd.read_csv(train_path)\n",
        "\n",
        "test_path = '/content/drive/My Drive/Colab Notebooks/test.csv'\n",
        "test = pd.read_csv(test_path)"
      ],
      "execution_count": null,
      "outputs": []
    },
    {
      "cell_type": "code",
      "metadata": {
        "id": "V1DY_vsMrAL1"
      },
      "source": [
        "#train = pd.read_csv('Dataset/train.csv')\n",
        "#test = pd.read_csv('Dataset/test.csv')\n"
      ],
      "execution_count": null,
      "outputs": []
    },
    {
      "cell_type": "code",
      "metadata": {
        "id": "7ESM77TFrAL5",
        "outputId": "64ccbf9e-b808-43a9-b2ff-57ef6e8f077d",
        "colab": {
          "base_uri": "https://localhost:8080/",
          "height": 204
        }
      },
      "source": [
        "train.head()"
      ],
      "execution_count": null,
      "outputs": [
        {
          "output_type": "execute_result",
          "data": {
            "text/html": [
              "<div>\n",
              "<style scoped>\n",
              "    .dataframe tbody tr th:only-of-type {\n",
              "        vertical-align: middle;\n",
              "    }\n",
              "\n",
              "    .dataframe tbody tr th {\n",
              "        vertical-align: top;\n",
              "    }\n",
              "\n",
              "    .dataframe thead th {\n",
              "        text-align: right;\n",
              "    }\n",
              "</style>\n",
              "<table border=\"1\" class=\"dataframe\">\n",
              "  <thead>\n",
              "    <tr style=\"text-align: right;\">\n",
              "      <th></th>\n",
              "      <th>id</th>\n",
              "      <th>date</th>\n",
              "      <th>seller</th>\n",
              "      <th>item</th>\n",
              "      <th>sales</th>\n",
              "    </tr>\n",
              "  </thead>\n",
              "  <tbody>\n",
              "    <tr>\n",
              "      <th>0</th>\n",
              "      <td>0</td>\n",
              "      <td>2015-05-01</td>\n",
              "      <td>1</td>\n",
              "      <td>1</td>\n",
              "      <td>21</td>\n",
              "    </tr>\n",
              "    <tr>\n",
              "      <th>1</th>\n",
              "      <td>1</td>\n",
              "      <td>2015-05-01</td>\n",
              "      <td>2</td>\n",
              "      <td>1</td>\n",
              "      <td>45</td>\n",
              "    </tr>\n",
              "    <tr>\n",
              "      <th>2</th>\n",
              "      <td>2</td>\n",
              "      <td>2015-05-01</td>\n",
              "      <td>3</td>\n",
              "      <td>1</td>\n",
              "      <td>28</td>\n",
              "    </tr>\n",
              "    <tr>\n",
              "      <th>3</th>\n",
              "      <td>3</td>\n",
              "      <td>2015-05-01</td>\n",
              "      <td>4</td>\n",
              "      <td>1</td>\n",
              "      <td>34</td>\n",
              "    </tr>\n",
              "    <tr>\n",
              "      <th>4</th>\n",
              "      <td>4</td>\n",
              "      <td>2015-05-01</td>\n",
              "      <td>5</td>\n",
              "      <td>1</td>\n",
              "      <td>21</td>\n",
              "    </tr>\n",
              "  </tbody>\n",
              "</table>\n",
              "</div>"
            ],
            "text/plain": [
              "   id        date  seller  item  sales\n",
              "0   0  2015-05-01       1     1     21\n",
              "1   1  2015-05-01       2     1     45\n",
              "2   2  2015-05-01       3     1     28\n",
              "3   3  2015-05-01       4     1     34\n",
              "4   4  2015-05-01       5     1     21"
            ]
          },
          "metadata": {
            "tags": []
          },
          "execution_count": 7
        }
      ]
    },
    {
      "cell_type": "code",
      "metadata": {
        "id": "L2xruSwrrAL9",
        "outputId": "5daebcd1-54fc-4057-b7f8-1507deaa31bd",
        "colab": {
          "base_uri": "https://localhost:8080/",
          "height": 204
        }
      },
      "source": [
        "test.head()"
      ],
      "execution_count": null,
      "outputs": [
        {
          "output_type": "execute_result",
          "data": {
            "text/html": [
              "<div>\n",
              "<style scoped>\n",
              "    .dataframe tbody tr th:only-of-type {\n",
              "        vertical-align: middle;\n",
              "    }\n",
              "\n",
              "    .dataframe tbody tr th {\n",
              "        vertical-align: top;\n",
              "    }\n",
              "\n",
              "    .dataframe thead th {\n",
              "        text-align: right;\n",
              "    }\n",
              "</style>\n",
              "<table border=\"1\" class=\"dataframe\">\n",
              "  <thead>\n",
              "    <tr style=\"text-align: right;\">\n",
              "      <th></th>\n",
              "      <th>id</th>\n",
              "      <th>date</th>\n",
              "      <th>seller</th>\n",
              "      <th>item</th>\n",
              "    </tr>\n",
              "  </thead>\n",
              "  <tbody>\n",
              "    <tr>\n",
              "      <th>0</th>\n",
              "      <td>0</td>\n",
              "      <td>2020-04-04</td>\n",
              "      <td>1</td>\n",
              "      <td>1</td>\n",
              "    </tr>\n",
              "    <tr>\n",
              "      <th>1</th>\n",
              "      <td>1</td>\n",
              "      <td>2020-04-04</td>\n",
              "      <td>2</td>\n",
              "      <td>1</td>\n",
              "    </tr>\n",
              "    <tr>\n",
              "      <th>2</th>\n",
              "      <td>2</td>\n",
              "      <td>2020-04-04</td>\n",
              "      <td>3</td>\n",
              "      <td>1</td>\n",
              "    </tr>\n",
              "    <tr>\n",
              "      <th>3</th>\n",
              "      <td>3</td>\n",
              "      <td>2020-04-04</td>\n",
              "      <td>4</td>\n",
              "      <td>1</td>\n",
              "    </tr>\n",
              "    <tr>\n",
              "      <th>4</th>\n",
              "      <td>4</td>\n",
              "      <td>2020-04-04</td>\n",
              "      <td>5</td>\n",
              "      <td>1</td>\n",
              "    </tr>\n",
              "  </tbody>\n",
              "</table>\n",
              "</div>"
            ],
            "text/plain": [
              "   id        date  seller  item\n",
              "0   0  2020-04-04       1     1\n",
              "1   1  2020-04-04       2     1\n",
              "2   2  2020-04-04       3     1\n",
              "3   3  2020-04-04       4     1\n",
              "4   4  2020-04-04       5     1"
            ]
          },
          "metadata": {
            "tags": []
          },
          "execution_count": 7
        }
      ]
    },
    {
      "cell_type": "code",
      "metadata": {
        "id": "7IGnBySvrAMA"
      },
      "source": [
        "# set index column as index in train file and test file\n",
        "train.set_index('id', inplace=True)\n",
        "test.set_index('id', inplace=True)"
      ],
      "execution_count": null,
      "outputs": []
    },
    {
      "cell_type": "markdown",
      "metadata": {
        "id": "oVDOq2R9rAME"
      },
      "source": [
        "#### Review our data"
      ]
    },
    {
      "cell_type": "code",
      "metadata": {
        "id": "Xngw-6KDrAMF",
        "outputId": "31304a6f-55aa-422a-b56d-ba3d099689ab",
        "colab": {
          "base_uri": "https://localhost:8080/"
        }
      },
      "source": [
        "train.info()"
      ],
      "execution_count": null,
      "outputs": [
        {
          "output_type": "stream",
          "text": [
            "<class 'pandas.core.frame.DataFrame'>\n",
            "Int64Index: 900000 entries, 0 to 899999\n",
            "Data columns (total 4 columns):\n",
            " #   Column  Non-Null Count   Dtype \n",
            "---  ------  --------------   ----- \n",
            " 0   date    900000 non-null  object\n",
            " 1   seller  900000 non-null  int64 \n",
            " 2   item    900000 non-null  int64 \n",
            " 3   sales   900000 non-null  int64 \n",
            "dtypes: int64(3), object(1)\n",
            "memory usage: 34.3+ MB\n"
          ],
          "name": "stdout"
        }
      ]
    },
    {
      "cell_type": "code",
      "metadata": {
        "id": "VA-PA8cGrAMK",
        "outputId": "c6567047-7618-42e6-d0d4-d9ac4dd75482",
        "colab": {
          "base_uri": "https://localhost:8080/"
        }
      },
      "source": [
        "test.info()"
      ],
      "execution_count": null,
      "outputs": [
        {
          "output_type": "stream",
          "text": [
            "<class 'pandas.core.frame.DataFrame'>\n",
            "Int64Index: 13000 entries, 0 to 12999\n",
            "Data columns (total 3 columns):\n",
            " #   Column  Non-Null Count  Dtype \n",
            "---  ------  --------------  ----- \n",
            " 0   date    13000 non-null  object\n",
            " 1   seller  13000 non-null  int64 \n",
            " 2   item    13000 non-null  int64 \n",
            "dtypes: int64(2), object(1)\n",
            "memory usage: 406.2+ KB\n"
          ],
          "name": "stdout"
        }
      ]
    },
    {
      "cell_type": "code",
      "metadata": {
        "id": "e5ONTXqYrAMN"
      },
      "source": [
        ""
      ],
      "execution_count": null,
      "outputs": []
    },
    {
      "cell_type": "code",
      "metadata": {
        "id": "2NBCwraxrAMQ"
      },
      "source": [
        ""
      ],
      "execution_count": null,
      "outputs": []
    },
    {
      "cell_type": "code",
      "metadata": {
        "id": "Zb6OKz5rrAMT"
      },
      "source": [
        ""
      ],
      "execution_count": null,
      "outputs": []
    },
    {
      "cell_type": "markdown",
      "metadata": {
        "id": "jimfftDarAMW"
      },
      "source": [
        "## looking for null, Nan or non relative input in rows"
      ]
    },
    {
      "cell_type": "code",
      "metadata": {
        "id": "jW5bkbfprAMX",
        "outputId": "254802aa-6ea0-4e3d-df89-ea1a4b8625de",
        "colab": {
          "base_uri": "https://localhost:8080/"
        }
      },
      "source": [
        "train.isnull().sum()"
      ],
      "execution_count": null,
      "outputs": [
        {
          "output_type": "execute_result",
          "data": {
            "text/plain": [
              "date      0\n",
              "seller    0\n",
              "item      0\n",
              "sales     0\n",
              "dtype: int64"
            ]
          },
          "metadata": {
            "tags": []
          },
          "execution_count": 12
        }
      ]
    },
    {
      "cell_type": "code",
      "metadata": {
        "id": "7mBcXoq7rAMa",
        "outputId": "9a04ad5d-6f8c-4547-e5d0-366186e6b269",
        "colab": {
          "base_uri": "https://localhost:8080/"
        }
      },
      "source": [
        "test.isnull().sum()"
      ],
      "execution_count": null,
      "outputs": [
        {
          "output_type": "execute_result",
          "data": {
            "text/plain": [
              "date      0\n",
              "seller    0\n",
              "item      0\n",
              "dtype: int64"
            ]
          },
          "metadata": {
            "tags": []
          },
          "execution_count": 13
        }
      ]
    },
    {
      "cell_type": "code",
      "metadata": {
        "id": "adpTYVjfrAMe",
        "outputId": "fbdbf033-ddcb-44ac-86f0-0a21b52f5f24",
        "colab": {
          "base_uri": "https://localhost:8080/"
        }
      },
      "source": [
        "train.seller.unique()"
      ],
      "execution_count": null,
      "outputs": [
        {
          "output_type": "execute_result",
          "data": {
            "text/plain": [
              "array([ 1,  2,  3,  4,  5,  6,  7,  8,  9, 10])"
            ]
          },
          "metadata": {
            "tags": []
          },
          "execution_count": 14
        }
      ]
    },
    {
      "cell_type": "code",
      "metadata": {
        "id": "AaNczK3FrAMh",
        "outputId": "9d1b6ae1-3fab-4d14-8387-a3e9d90ab506",
        "colab": {
          "base_uri": "https://localhost:8080/"
        }
      },
      "source": [
        "test.seller.unique()"
      ],
      "execution_count": null,
      "outputs": [
        {
          "output_type": "execute_result",
          "data": {
            "text/plain": [
              "array([ 1,  2,  3,  4,  5,  6,  7,  8,  9, 10])"
            ]
          },
          "metadata": {
            "tags": []
          },
          "execution_count": 15
        }
      ]
    },
    {
      "cell_type": "code",
      "metadata": {
        "id": "4Rm7wr29rAMk",
        "outputId": "ecfb9a6e-133d-4d47-9bbd-ad0e8c296033",
        "colab": {
          "base_uri": "https://localhost:8080/"
        }
      },
      "source": [
        "train.item.unique()"
      ],
      "execution_count": null,
      "outputs": [
        {
          "output_type": "execute_result",
          "data": {
            "text/plain": [
              "array([ 1,  2,  3,  4,  5,  6,  7,  8,  9, 10, 11, 12, 13, 14, 15, 16, 17,\n",
              "       18, 19, 20, 21, 22, 23, 24, 25, 26, 27, 28, 29, 30, 31, 32, 33, 34,\n",
              "       35, 36, 37, 38, 39, 40, 41, 42, 43, 44, 45, 46, 47, 48, 49, 50])"
            ]
          },
          "metadata": {
            "tags": []
          },
          "execution_count": 16
        }
      ]
    },
    {
      "cell_type": "code",
      "metadata": {
        "id": "VGtOdy2crAMn",
        "outputId": "4d2b8096-a068-482f-fbce-3f4dc38d8918",
        "colab": {
          "base_uri": "https://localhost:8080/"
        }
      },
      "source": [
        "test.item.unique()"
      ],
      "execution_count": null,
      "outputs": [
        {
          "output_type": "execute_result",
          "data": {
            "text/plain": [
              "array([ 1,  2,  3,  4,  5,  6,  7,  8,  9, 10, 11, 12, 13, 14, 15, 16, 17,\n",
              "       18, 19, 20, 21, 22, 23, 24, 25, 26, 27, 28, 29, 30, 31, 32, 33, 34,\n",
              "       35, 36, 37, 38, 39, 40, 41, 42, 43, 44, 45, 46, 47, 48, 49, 50])"
            ]
          },
          "metadata": {
            "tags": []
          },
          "execution_count": 17
        }
      ]
    },
    {
      "cell_type": "code",
      "metadata": {
        "id": "gbLq4Z0zrAMr",
        "outputId": "c276f0b0-b0d2-4b83-dea4-230c37ea7551",
        "colab": {
          "base_uri": "https://localhost:8080/"
        }
      },
      "source": [
        "train.sales.unique()"
      ],
      "execution_count": null,
      "outputs": [
        {
          "output_type": "execute_result",
          "data": {
            "text/plain": [
              "array([ 21,  45,  28,  34,  27,  25,  26,  37,  32,  22,  20,  35,  38,\n",
              "        24,  40,  33,  11,  29,  39,  17,  30,  53,  47,  41,  46,  16,\n",
              "        14,  43,  19,  44,  23,  18,  42,  15,  31,  36,  48,   8,  13,\n",
              "         9,  49,  12,  51,  55,  52,  57,  56,  62,  59,  54,  61,  58,\n",
              "        60,  50,  64,  63,  75,  66,  82,  72,  70,  76,  67,  78,  68,\n",
              "        77,  65,  74,  73,  84,  71,  69,  81,  80,  91,  79,  93,  83,\n",
              "        87,  98,  85, 100,  90,  94,  86,  88,  89,  95,  92, 105,  97,\n",
              "       102,  96, 103, 113, 106,  99, 109, 107, 104, 108, 110, 101, 120,\n",
              "       117, 116, 114, 115, 126, 118, 112, 119, 111, 123, 130, 128, 124,\n",
              "        10,   7,   3,   5,   6,   4, 121, 122, 127, 132, 125, 129, 143,\n",
              "       131, 133, 134, 138, 153, 150, 148, 141, 140, 152, 135, 139, 136,\n",
              "       137, 144, 149, 142, 157, 164, 161, 147, 154, 145,   2,   1,   0,\n",
              "       169, 156, 159, 155, 163, 165, 146, 160, 158, 151, 162, 171, 168,\n",
              "       177, 167, 166, 175, 176, 181, 174, 170, 178, 172, 173, 187, 182,\n",
              "       189, 179, 186, 204, 180, 199, 190, 185, 191, 210, 184, 183, 196,\n",
              "       194, 197, 207, 209, 200, 195, 192, 198, 231, 193, 205, 188, 208,\n",
              "       201, 214, 202, 206, 203])"
            ]
          },
          "metadata": {
            "tags": []
          },
          "execution_count": 18
        }
      ]
    },
    {
      "cell_type": "code",
      "metadata": {
        "id": "qkSy84gPrAMw"
      },
      "source": [
        ""
      ],
      "execution_count": null,
      "outputs": []
    },
    {
      "cell_type": "markdown",
      "metadata": {
        "id": "_x2pe64prAMz"
      },
      "source": [
        "## Preparing Data"
      ]
    },
    {
      "cell_type": "code",
      "metadata": {
        "id": "h_V-5cbprAMz"
      },
      "source": [
        "# change date columns to date type\n",
        "train.date = pd.to_datetime(train['date'])\n",
        "test.date = pd.to_datetime(test['date'])"
      ],
      "execution_count": null,
      "outputs": []
    },
    {
      "cell_type": "code",
      "metadata": {
        "id": "7mbFoXFtrAM3"
      },
      "source": [
        "# add day and month columns in train data\n",
        "train['day'] = train['date'].dt.day\n",
        "train['month'] = train['date'].dt.month\n",
        "\n",
        "\n",
        "train = train.drop('date', axis=1)\n",
        "\n",
        "# add day and month columns in test data\n",
        "test['day'] = test['date'].dt.day\n",
        "test['month'] = test['date'].dt.month\n",
        "\n",
        "\n",
        "test = test.drop('date', axis=1)"
      ],
      "execution_count": null,
      "outputs": []
    },
    {
      "cell_type": "code",
      "metadata": {
        "id": "04MMntjFrAM5",
        "outputId": "8c98b5ba-d937-4de0-9822-4a43d0df5e2b",
        "colab": {
          "base_uri": "https://localhost:8080/"
        }
      },
      "source": [
        "train.day.unique()"
      ],
      "execution_count": null,
      "outputs": [
        {
          "output_type": "execute_result",
          "data": {
            "text/plain": [
              "array([ 1,  2,  3,  4,  5,  6,  7,  8,  9, 10, 11, 12, 13, 14, 15, 16, 17,\n",
              "       18, 19, 20, 21, 22, 23, 24, 25, 26, 27, 28, 29, 30, 31])"
            ]
          },
          "metadata": {
            "tags": []
          },
          "execution_count": 21
        }
      ]
    },
    {
      "cell_type": "code",
      "metadata": {
        "id": "wm3A0yf_rAM8",
        "outputId": "d51de21c-ad65-44ac-db8e-763cdd7c1383",
        "colab": {
          "base_uri": "https://localhost:8080/"
        }
      },
      "source": [
        "test.day.unique()"
      ],
      "execution_count": null,
      "outputs": [
        {
          "output_type": "execute_result",
          "data": {
            "text/plain": [
              "array([ 4,  5,  6,  7,  8,  9, 10, 11, 12, 13, 14, 15, 16, 17, 18, 19, 20,\n",
              "       21, 22, 23, 24, 25, 26, 27, 28, 29])"
            ]
          },
          "metadata": {
            "tags": []
          },
          "execution_count": 22
        }
      ]
    },
    {
      "cell_type": "code",
      "metadata": {
        "id": "T5RhxlCnrANA",
        "outputId": "ca9d382e-3126-4ae9-8b67-54749b1f70fe",
        "colab": {
          "base_uri": "https://localhost:8080/"
        }
      },
      "source": [
        "train.month.unique()"
      ],
      "execution_count": null,
      "outputs": [
        {
          "output_type": "execute_result",
          "data": {
            "text/plain": [
              "array([ 5,  6,  7,  8,  9, 10, 11, 12,  1,  2,  3,  4])"
            ]
          },
          "metadata": {
            "tags": []
          },
          "execution_count": 23
        }
      ]
    },
    {
      "cell_type": "code",
      "metadata": {
        "id": "y8nr_JTBrANC",
        "outputId": "48a0504c-80b4-49da-8114-e640ce9500ed",
        "colab": {
          "base_uri": "https://localhost:8080/"
        }
      },
      "source": [
        "test.month.unique()"
      ],
      "execution_count": null,
      "outputs": [
        {
          "output_type": "execute_result",
          "data": {
            "text/plain": [
              "array([4])"
            ]
          },
          "metadata": {
            "tags": []
          },
          "execution_count": 24
        }
      ]
    },
    {
      "cell_type": "code",
      "metadata": {
        "id": "MhsCYoyhrANF"
      },
      "source": [
        ""
      ],
      "execution_count": null,
      "outputs": []
    },
    {
      "cell_type": "code",
      "metadata": {
        "id": "GihN0jmdrANI",
        "outputId": "9d52a000-1b8d-4e4a-da53-72f5f4ea5a88",
        "colab": {
          "base_uri": "https://localhost:8080/"
        }
      },
      "source": [
        "train.head()"
      ],
      "execution_count": null,
      "outputs": [
        {
          "output_type": "execute_result",
          "data": {
            "text/html": [
              "<div>\n",
              "<style scoped>\n",
              "    .dataframe tbody tr th:only-of-type {\n",
              "        vertical-align: middle;\n",
              "    }\n",
              "\n",
              "    .dataframe tbody tr th {\n",
              "        vertical-align: top;\n",
              "    }\n",
              "\n",
              "    .dataframe thead th {\n",
              "        text-align: right;\n",
              "    }\n",
              "</style>\n",
              "<table border=\"1\" class=\"dataframe\">\n",
              "  <thead>\n",
              "    <tr style=\"text-align: right;\">\n",
              "      <th></th>\n",
              "      <th>seller</th>\n",
              "      <th>item</th>\n",
              "      <th>sales</th>\n",
              "      <th>day</th>\n",
              "      <th>month</th>\n",
              "    </tr>\n",
              "    <tr>\n",
              "      <th>id</th>\n",
              "      <th></th>\n",
              "      <th></th>\n",
              "      <th></th>\n",
              "      <th></th>\n",
              "      <th></th>\n",
              "    </tr>\n",
              "  </thead>\n",
              "  <tbody>\n",
              "    <tr>\n",
              "      <th>0</th>\n",
              "      <td>1</td>\n",
              "      <td>1</td>\n",
              "      <td>21</td>\n",
              "      <td>1</td>\n",
              "      <td>5</td>\n",
              "    </tr>\n",
              "    <tr>\n",
              "      <th>1</th>\n",
              "      <td>2</td>\n",
              "      <td>1</td>\n",
              "      <td>45</td>\n",
              "      <td>1</td>\n",
              "      <td>5</td>\n",
              "    </tr>\n",
              "    <tr>\n",
              "      <th>2</th>\n",
              "      <td>3</td>\n",
              "      <td>1</td>\n",
              "      <td>28</td>\n",
              "      <td>1</td>\n",
              "      <td>5</td>\n",
              "    </tr>\n",
              "    <tr>\n",
              "      <th>3</th>\n",
              "      <td>4</td>\n",
              "      <td>1</td>\n",
              "      <td>34</td>\n",
              "      <td>1</td>\n",
              "      <td>5</td>\n",
              "    </tr>\n",
              "    <tr>\n",
              "      <th>4</th>\n",
              "      <td>5</td>\n",
              "      <td>1</td>\n",
              "      <td>21</td>\n",
              "      <td>1</td>\n",
              "      <td>5</td>\n",
              "    </tr>\n",
              "  </tbody>\n",
              "</table>\n",
              "</div>"
            ],
            "text/plain": [
              "    seller  item  sales  day  month\n",
              "id                                 \n",
              "0        1     1     21    1      5\n",
              "1        2     1     45    1      5\n",
              "2        3     1     28    1      5\n",
              "3        4     1     34    1      5\n",
              "4        5     1     21    1      5"
            ]
          },
          "metadata": {
            "tags": []
          },
          "execution_count": 25
        }
      ]
    },
    {
      "cell_type": "code",
      "metadata": {
        "id": "hDr04bPurANL"
      },
      "source": [
        ""
      ],
      "execution_count": null,
      "outputs": []
    },
    {
      "cell_type": "code",
      "metadata": {
        "id": "tCWNkkD6rANO",
        "outputId": "3718c972-ccd9-4f07-80c5-1ed1cff1478e",
        "colab": {
          "base_uri": "https://localhost:8080/"
        }
      },
      "source": [
        "item_sales = train.groupby('item').sales.mean()\n",
        "item_sales.sort_values(ascending=False)"
      ],
      "execution_count": null,
      "outputs": [
        {
          "output_type": "execute_result",
          "data": {
            "text/plain": [
              "item\n",
              "18    88.212778\n",
              "31    88.072111\n",
              "16    84.481500\n",
              "21    84.450667\n",
              "28    80.849833\n",
              "48    80.754333\n",
              "41    80.677222\n",
              "25    80.667778\n",
              "39    77.181722\n",
              "11    77.104778\n",
              "13    73.378056\n",
              "14    69.779167\n",
              "15    69.778389\n",
              "32    69.754667\n",
              "36    69.711944\n",
              "27    66.177833\n",
              "3     66.029333\n",
              "38    65.938167\n",
              "17    58.799944\n",
              "34    58.760444\n",
              "49    58.750944\n",
              "5     58.685722\n",
              "10    58.648278\n",
              "9     58.622778\n",
              "12    51.498722\n",
              "1     51.451722\n",
              "46    51.393444\n",
              "29    47.744889\n",
              "23    47.610833\n",
              "35    44.073556\n",
              "42    43.975278\n",
              "22    40.442444\n",
              "33    40.425556\n",
              "24    40.403556\n",
              "45    36.769889\n",
              "6     36.709167\n",
              "20    33.065222\n",
              "47    29.459722\n",
              "2     29.403556\n",
              "26    29.355611\n",
              "40    29.315556\n",
              "43    29.310389\n",
              "37    25.787222\n",
              "19    25.718722\n",
              "30    22.097222\n",
              "7     22.059722\n",
              "44    22.052500\n",
              "50    22.047500\n",
              "4     22.028278\n",
              "8     18.388667\n",
              "Name: sales, dtype: float64"
            ]
          },
          "metadata": {
            "tags": []
          },
          "execution_count": 26
        }
      ]
    },
    {
      "cell_type": "code",
      "metadata": {
        "id": "3EhBc7nkrANR",
        "outputId": "c97c16e1-c414-4822-bf79-4bc4e9c3d1d5",
        "colab": {
          "base_uri": "https://localhost:8080/"
        }
      },
      "source": [
        "month_sales = train.groupby('month').sales.mean()\n",
        "month_sales.sort_values(ascending=False)"
      ],
      "execution_count": null,
      "outputs": [
        {
          "output_type": "execute_result",
          "data": {
            "text/plain": [
              "month\n",
              "11    66.280067\n",
              "10    63.656619\n",
              "9     59.344947\n",
              "12    58.700839\n",
              "8     55.539458\n",
              "1     54.842039\n",
              "3     54.148529\n",
              "2     51.272155\n",
              "7     47.982516\n",
              "6     39.932080\n",
              "4     38.214878\n",
              "5     35.634671\n",
              "Name: sales, dtype: float64"
            ]
          },
          "metadata": {
            "tags": []
          },
          "execution_count": 27
        }
      ]
    },
    {
      "cell_type": "code",
      "metadata": {
        "id": "txaTZ5a015SU"
      },
      "source": [
        ""
      ],
      "execution_count": null,
      "outputs": []
    },
    {
      "cell_type": "code",
      "metadata": {
        "id": "XwUJj0kjrANU",
        "outputId": "db12019c-7ea0-4a34-aac4-6c63fafa754e",
        "colab": {
          "base_uri": "https://localhost:8080/"
        }
      },
      "source": [
        "corr_matrix = train.corr()\n",
        "corr_matrix['sales'].sort_values(ascending=False)"
      ],
      "execution_count": null,
      "outputs": [
        {
          "output_type": "execute_result",
          "data": {
            "text/plain": [
              "sales     1.000000\n",
              "month     0.170869\n",
              "day       0.003272\n",
              "seller   -0.008123\n",
              "item     -0.031485\n",
              "Name: sales, dtype: float64"
            ]
          },
          "metadata": {
            "tags": []
          },
          "execution_count": 28
        }
      ]
    },
    {
      "cell_type": "code",
      "metadata": {
        "id": "xE0FglifrANX"
      },
      "source": [
        ""
      ],
      "execution_count": null,
      "outputs": []
    },
    {
      "cell_type": "code",
      "metadata": {
        "id": "kP2UAzX9rANa"
      },
      "source": [
        ""
      ],
      "execution_count": null,
      "outputs": []
    },
    {
      "cell_type": "code",
      "metadata": {
        "id": "HIWXwLsVrANc",
        "outputId": "099136ed-1694-43ee-8e7d-417592a6f530",
        "colab": {
          "base_uri": "https://localhost:8080/"
        }
      },
      "source": [
        "day_sales = train.groupby('day').sales.mean()\n",
        "day_sales.sort_values(ascending=False)"
      ],
      "execution_count": null,
      "outputs": [
        {
          "output_type": "execute_result",
          "data": {
            "text/plain": [
              "day\n",
              "29    53.035286\n",
              "4     52.853525\n",
              "18    52.807864\n",
              "11    52.794542\n",
              "25    52.780746\n",
              "13    52.660610\n",
              "6     52.591661\n",
              "20    52.582542\n",
              "27    52.551322\n",
              "30    52.483556\n",
              "28    52.417492\n",
              "26    52.357220\n",
              "16    52.335458\n",
              "24    52.326881\n",
              "17    52.318644\n",
              "19    52.308068\n",
              "10    52.293593\n",
              "12    52.290881\n",
              "31    52.283486\n",
              "23    52.273797\n",
              "9     52.206814\n",
              "5     52.206780\n",
              "8     52.104305\n",
              "1     52.097133\n",
              "15    52.059864\n",
              "22    52.054983\n",
              "14    52.053051\n",
              "3     52.038900\n",
              "21    51.997797\n",
              "7     51.992678\n",
              "2     51.944100\n",
              "Name: sales, dtype: float64"
            ]
          },
          "metadata": {
            "tags": []
          },
          "execution_count": 29
        }
      ]
    },
    {
      "cell_type": "code",
      "metadata": {
        "id": "IMVCRb9HrANf",
        "outputId": "604fbe2f-8572-438a-9541-5188eaa53597",
        "colab": {
          "base_uri": "https://localhost:8080/"
        }
      },
      "source": [
        "plt.subplot(212)\n",
        "plt.plot(item_sales,'g--')\n",
        "plt.grid(True)\n",
        "plt.subplot(221)\n",
        "plt.plot(month_sales,'r:')\n",
        "plt.xticks([1,2,3,4,5,6,7,8,9,10,11,12])\n",
        "plt.grid(True)\n",
        "plt.subplot(222)\n",
        "plt.plot(day_sales,'r:')\n",
        "plt.grid(True)\n",
        "plt.show()"
      ],
      "execution_count": null,
      "outputs": [
        {
          "output_type": "display_data",
          "data": {
            "image/png": "[encoded data removed]",
            "text/plain": [
              "<Figure size 432x288 with 3 Axes>"
            ]
          },
          "metadata": {
            "tags": [],
            "needs_background": "light"
          }
        }
      ]
    },
    {
      "cell_type": "code",
      "metadata": {
        "id": "Tq7j_jeBrANi"
      },
      "source": [
        ""
      ],
      "execution_count": null,
      "outputs": []
    },
    {
      "cell_type": "code",
      "metadata": {
        "id": "igZY8kO6rANl"
      },
      "source": [
        ""
      ],
      "execution_count": null,
      "outputs": []
    },
    {
      "cell_type": "markdown",
      "metadata": {
        "id": "cgnC8XWrrANo"
      },
      "source": [
        "## Create Test set"
      ]
    },
    {
      "cell_type": "code",
      "metadata": {
        "id": "Lp4MmxQKrANu"
      },
      "source": [
        "from sklearn.model_selection import StratifiedShuffleSplit\n",
        "split = StratifiedShuffleSplit(n_splits=1, test_size=0.2, random_state=42)"
      ],
      "execution_count": null,
      "outputs": []
    },
    {
      "cell_type": "code",
      "metadata": {
        "id": "snihkM93rANz"
      },
      "source": [
        "for train_index, test_index in split.split(train, train['month']):\n",
        "    strat_trian_set = train.loc[train_index]\n",
        "    strat_test_set = train.loc[test_index]"
      ],
      "execution_count": null,
      "outputs": []
    },
    {
      "cell_type": "code",
      "metadata": {
        "id": "pEs30qACrAN2"
      },
      "source": [
        "X = strat_trian_set.drop('sales', axis=1)\n",
        "y = strat_trian_set.sales.copy()"
      ],
      "execution_count": null,
      "outputs": []
    },
    {
      "cell_type": "code",
      "metadata": {
        "id": "ORcQjmvMrAN_"
      },
      "source": [
        "some_data = X.iloc[:5]\n",
        "some_labels = y.iloc[:5]"
      ],
      "execution_count": null,
      "outputs": []
    },
    {
      "cell_type": "code",
      "metadata": {
        "id": "4caq0tjL3nhR"
      },
      "source": [
        ""
      ],
      "execution_count": null,
      "outputs": []
    },
    {
      "cell_type": "markdown",
      "metadata": {
        "id": "ajs2qoaEQ7vR"
      },
      "source": [
        "# Modeling"
      ]
    },
    {
      "cell_type": "markdown",
      "metadata": {
        "id": "cRZaJIkoQ-ro"
      },
      "source": [
        "## Linear Regression"
      ]
    },
    {
      "cell_type": "code",
      "metadata": {
        "id": "beu2TFqCrAOI"
      },
      "source": [
        "from sklearn.linear_model import LinearRegression\n",
        "lin_reg = LinearRegression()"
      ],
      "execution_count": null,
      "outputs": []
    },
    {
      "cell_type": "code",
      "metadata": {
        "id": "JnJiPB4u2_-l",
        "outputId": "50180da6-404c-4246-ebcc-e7830ca071f0",
        "colab": {
          "base_uri": "https://localhost:8080/",
          "height": 34
        }
      },
      "source": [
        "lin_reg.fit(X, y)"
      ],
      "execution_count": null,
      "outputs": [
        {
          "output_type": "execute_result",
          "data": {
            "text/plain": [
              "LinearRegression(copy_X=True, fit_intercept=True, n_jobs=None, normalize=False)"
            ]
          },
          "metadata": {
            "tags": []
          },
          "execution_count": 39
        }
      ]
    },
    {
      "cell_type": "code",
      "metadata": {
        "id": "Q9yC82hurAOL",
        "outputId": "d52f4bd8-a012-42a9-ac52-c1fa2d82f9bf",
        "colab": {
          "base_uri": "https://localhost:8080/",
          "height": 34
        }
      },
      "source": [
        "\n",
        "lin_pred = lin_reg.predict(some_data)\n",
        "print(\"prediction:\", lin_pred)"
      ],
      "execution_count": null,
      "outputs": [
        {
          "output_type": "stream",
          "text": [
            "prediction: [43.17176752 46.45652738 51.28088856 61.60767197 51.61729511]\n"
          ],
          "name": "stdout"
        }
      ]
    },
    {
      "cell_type": "code",
      "metadata": {
        "id": "-CU3jDTOrAOO",
        "outputId": "93554758-b87d-4f8a-b0a2-09dc3e859218",
        "colab": {
          "base_uri": "https://localhost:8080/",
          "height": 34
        }
      },
      "source": [
        "print(\"Labels: \", list(some_labels))"
      ],
      "execution_count": null,
      "outputs": [
        {
          "output_type": "stream",
          "text": [
            "Labels:  [33, 22, 17, 99, 49]\n"
          ],
          "name": "stdout"
        }
      ]
    },
    {
      "cell_type": "code",
      "metadata": {
        "id": "aEDcm5_8rAOR",
        "outputId": "0ef640d1-8118-4d62-e17e-340c452bff3a",
        "colab": {
          "base_uri": "https://localhost:8080/",
          "height": 34
        }
      },
      "source": [
        "smape(some_labels,lin_pred)"
      ],
      "execution_count": null,
      "outputs": [
        {
          "output_type": "execute_result",
          "data": {
            "text/plain": [
              "50.06722488981762"
            ]
          },
          "metadata": {
            "tags": []
          },
          "execution_count": 42
        }
      ]
    },
    {
      "cell_type": "code",
      "metadata": {
        "id": "f-XEzRGRrAOU"
      },
      "source": [
        "# last error = 47.423, 50.067"
      ],
      "execution_count": null,
      "outputs": []
    },
    {
      "cell_type": "code",
      "metadata": {
        "id": "FhuLOphrrAOa",
        "outputId": "6dd932eb-552c-408a-f25f-bc50482a1b06",
        "colab": {
          "base_uri": "https://localhost:8080/",
          "height": 34
        }
      },
      "source": [
        "print(np.sqrt(mean_squared_error(some_labels, lin_pred)))"
      ],
      "execution_count": null,
      "outputs": [
        {
          "output_type": "stream",
          "text": [
            "25.619532922046965\n"
          ],
          "name": "stdout"
        }
      ]
    },
    {
      "cell_type": "code",
      "metadata": {
        "id": "lPsosLrVrAOc"
      },
      "source": [
        "# last error = 44.968, 25.619"
      ],
      "execution_count": null,
      "outputs": []
    },
    {
      "cell_type": "code",
      "metadata": {
        "id": "amhcwnm-vYjX"
      },
      "source": [
        ""
      ],
      "execution_count": null,
      "outputs": []
    },
    {
      "cell_type": "markdown",
      "metadata": {
        "id": "9YO2xiCaREK6"
      },
      "source": [
        "## Decision Tree Regressor"
      ]
    },
    {
      "cell_type": "code",
      "metadata": {
        "id": "tmtRPWzJrAOf"
      },
      "source": [
        "from sklearn.tree import DecisionTreeRegressor\n",
        "tree_reg = DecisionTreeRegressor(max_depth=25,min_samples_leaf=7,random_state=42)"
      ],
      "execution_count": null,
      "outputs": []
    },
    {
      "cell_type": "code",
      "metadata": {
        "id": "N0lFP7t_6qS7",
        "outputId": "f8a9d98a-b51d-4999-e146-e32c1c59a5a4",
        "colab": {
          "base_uri": "https://localhost:8080/",
          "height": 119
        }
      },
      "source": [
        "tree_reg.fit(X, y)"
      ],
      "execution_count": null,
      "outputs": [
        {
          "output_type": "execute_result",
          "data": {
            "text/plain": [
              "DecisionTreeRegressor(ccp_alpha=0.0, criterion='mse', max_depth=25,\n",
              "                      max_features=None, max_leaf_nodes=None,\n",
              "                      min_impurity_decrease=0.0, min_impurity_split=None,\n",
              "                      min_samples_leaf=7, min_samples_split=2,\n",
              "                      min_weight_fraction_leaf=0.0, presort='deprecated',\n",
              "                      random_state=42, splitter='best')"
            ]
          },
          "metadata": {
            "tags": []
          },
          "execution_count": 45
        }
      ]
    },
    {
      "cell_type": "code",
      "metadata": {
        "id": "SlVGOQNZrAOi",
        "outputId": "3e5b9a1d-943a-421b-b884-5d4e1595a274",
        "colab": {
          "base_uri": "https://localhost:8080/",
          "height": 34
        }
      },
      "source": [
        "tree_pred = tree_reg.predict(some_data)\n",
        "print(\"prediction Decision Tree:\", tree_pred)"
      ],
      "execution_count": null,
      "outputs": [
        {
          "output_type": "stream",
          "text": [
            "prediction Decision Tree: [26.77777778 29.21428571 23.125      99.28571429 46.5       ]\n"
          ],
          "name": "stdout"
        }
      ]
    },
    {
      "cell_type": "code",
      "metadata": {
        "id": "s2m4e270rAOk",
        "outputId": "9d5c893e-a4b7-4bf7-976d-81605d99d80a",
        "colab": {
          "base_uri": "https://localhost:8080/",
          "height": 34
        }
      },
      "source": [
        "print(\"Labels: \", list(some_labels))"
      ],
      "execution_count": null,
      "outputs": [
        {
          "output_type": "stream",
          "text": [
            "Labels:  [33, 22, 17, 99, 49]\n"
          ],
          "name": "stdout"
        }
      ]
    },
    {
      "cell_type": "code",
      "metadata": {
        "id": "zJ5k0g6vrAOp",
        "outputId": "deddf805-42ee-4a05-8ffd-0af35a86ccd5",
        "colab": {
          "base_uri": "https://localhost:8080/",
          "height": 34
        }
      },
      "source": [
        "print(np.sqrt(mean_squared_error(some_labels, tree_pred)))"
      ],
      "execution_count": null,
      "outputs": [
        {
          "output_type": "stream",
          "text": [
            "5.188626511961026\n"
          ],
          "name": "stdout"
        }
      ]
    },
    {
      "cell_type": "code",
      "metadata": {
        "id": "1n2xMyS9rAOs"
      },
      "source": [
        "# last error = 15.728 , 6.36, 5.957, 5.188,"
      ],
      "execution_count": null,
      "outputs": []
    },
    {
      "cell_type": "code",
      "metadata": {
        "id": "OdC_K0AArAOw",
        "outputId": "25de1d10-e102-48f9-be3e-2f5101fd220d",
        "colab": {
          "base_uri": "https://localhost:8080/",
          "height": 34
        }
      },
      "source": [
        "smape(some_labels,tree_pred)"
      ],
      "execution_count": null,
      "outputs": [
        {
          "output_type": "execute_result",
          "data": {
            "text/plain": [
              "17.00883364626456"
            ]
          },
          "metadata": {
            "tags": []
          },
          "execution_count": 49
        }
      ]
    },
    {
      "cell_type": "code",
      "metadata": {
        "id": "UwQZYTXqrAOy"
      },
      "source": [
        "# last error = 17.008 , 21.850"
      ],
      "execution_count": null,
      "outputs": []
    },
    {
      "cell_type": "markdown",
      "metadata": {
        "id": "nIvMxns3RLk_"
      },
      "source": [
        "### Cross Validation score"
      ]
    },
    {
      "cell_type": "code",
      "metadata": {
        "id": "eZvQbU5fHjW_"
      },
      "source": [
        "scores = cross_val_score(tree_reg, X, y,\n",
        "                        scoring=\"neg_mean_squared_error\", cv=5)\n",
        "tree_rmse_scores = np.sqrt(-scores)"
      ],
      "execution_count": null,
      "outputs": []
    },
    {
      "cell_type": "code",
      "metadata": {
        "id": "dKUMam0gHjcp",
        "outputId": "88b98a36-c15c-44f3-b3d0-05836568a32e",
        "colab": {
          "base_uri": "https://localhost:8080/",
          "height": 68
        }
      },
      "source": [
        "display_scores(tree_rmse_scores)"
      ],
      "execution_count": null,
      "outputs": [
        {
          "output_type": "stream",
          "text": [
            "Scores: [13.06615065 13.0425138  13.07811677 13.06199237 13.09035204]\n",
            "Mean: 13.067825127304669\n",
            "Standard deviation: 0.016067780178288436\n"
          ],
          "name": "stdout"
        }
      ]
    },
    {
      "cell_type": "code",
      "metadata": {
        "id": "EX4rBEjHrAPF"
      },
      "source": [
        ""
      ],
      "execution_count": null,
      "outputs": []
    },
    {
      "cell_type": "markdown",
      "metadata": {
        "id": "uftemzBxQwxL"
      },
      "source": [
        "## Random Forest"
      ]
    },
    {
      "cell_type": "code",
      "metadata": {
        "id": "DXvbcJaxrAPJ"
      },
      "source": [
        "from sklearn.ensemble import RandomForestRegressor"
      ],
      "execution_count": null,
      "outputs": []
    },
    {
      "cell_type": "code",
      "metadata": {
        "id": "EgwY8gkCrAPL"
      },
      "source": [
        "forest_reg = RandomForestRegressor(random_state=42)"
      ],
      "execution_count": null,
      "outputs": []
    },
    {
      "cell_type": "code",
      "metadata": {
        "id": "fBPgbuBXrAPN",
        "outputId": "b7dcd49e-3f57-4103-8884-ff9c2a789751",
        "colab": {
          "base_uri": "https://localhost:8080/",
          "height": 136
        }
      },
      "source": [
        "forest_reg.fit(X, y)"
      ],
      "execution_count": null,
      "outputs": [
        {
          "output_type": "execute_result",
          "data": {
            "text/plain": [
              "RandomForestRegressor(bootstrap=True, ccp_alpha=0.0, criterion='mse',\n",
              "                      max_depth=None, max_features='auto', max_leaf_nodes=None,\n",
              "                      max_samples=None, min_impurity_decrease=0.0,\n",
              "                      min_impurity_split=None, min_samples_leaf=1,\n",
              "                      min_samples_split=2, min_weight_fraction_leaf=0.0,\n",
              "                      n_estimators=100, n_jobs=None, oob_score=False,\n",
              "                      random_state=42, verbose=0, warm_start=False)"
            ]
          },
          "metadata": {
            "tags": []
          },
          "execution_count": 52
        }
      ]
    },
    {
      "cell_type": "code",
      "metadata": {
        "id": "KK_GC5bRrAPP"
      },
      "source": [
        "forest_pred = forest_reg.predict(some_data)"
      ],
      "execution_count": null,
      "outputs": []
    },
    {
      "cell_type": "code",
      "metadata": {
        "id": "H0XUwKlArAPR",
        "outputId": "d1b96574-df2d-433e-d87f-bd030a0ffcaf",
        "colab": {
          "base_uri": "https://localhost:8080/",
          "height": 34
        }
      },
      "source": [
        "print(\"prediction Decision Tree:\", forest_pred)"
      ],
      "execution_count": null,
      "outputs": [
        {
          "output_type": "stream",
          "text": [
            "prediction Decision Tree: [26.1364798  30.56190043 24.09986508 94.49142532 47.03986508]\n"
          ],
          "name": "stdout"
        }
      ]
    },
    {
      "cell_type": "code",
      "metadata": {
        "id": "dFm2q8nyrAPT",
        "outputId": "9111d035-5d4f-4666-e393-eaf0d44e3874",
        "colab": {
          "base_uri": "https://localhost:8080/",
          "height": 34
        }
      },
      "source": [
        "print(\"Labels: \", list(some_labels))"
      ],
      "execution_count": null,
      "outputs": [
        {
          "output_type": "stream",
          "text": [
            "Labels:  [33, 22, 17, 99, 49]\n"
          ],
          "name": "stdout"
        }
      ]
    },
    {
      "cell_type": "code",
      "metadata": {
        "id": "CKc0jDMrrAPV",
        "outputId": "88f7c68f-93f0-474e-c3e6-7b4b17a6972b",
        "colab": {
          "base_uri": "https://localhost:8080/",
          "height": 34
        }
      },
      "source": [
        "print(np.sqrt(mean_squared_error(some_labels,forest_pred)))"
      ],
      "execution_count": null,
      "outputs": [
        {
          "output_type": "stream",
          "text": [
            "6.244862003946916\n"
          ],
          "name": "stdout"
        }
      ]
    },
    {
      "cell_type": "code",
      "metadata": {
        "id": "BqN0BUL-rAPY"
      },
      "source": [
        "# last error = 14.5823, 6.35, 6.40, 6.244"
      ],
      "execution_count": null,
      "outputs": []
    },
    {
      "cell_type": "code",
      "metadata": {
        "id": "xfZsd6YUrAPa",
        "outputId": "5d9c43b7-8561-4277-e841-b55b69d9e5ee",
        "colab": {
          "base_uri": "https://localhost:8080/",
          "height": 34
        }
      },
      "source": [
        "smape(some_labels,forest_pred)"
      ],
      "execution_count": null,
      "outputs": [
        {
          "output_type": "execute_result",
          "data": {
            "text/plain": [
              "19.816462625808143"
            ]
          },
          "metadata": {
            "tags": []
          },
          "execution_count": 57
        }
      ]
    },
    {
      "cell_type": "code",
      "metadata": {
        "id": "uUij-P3crAPc"
      },
      "source": [
        "# last error = 22.1139, 19.816"
      ],
      "execution_count": null,
      "outputs": []
    },
    {
      "cell_type": "markdown",
      "metadata": {
        "id": "GpaztzXcRRZI"
      },
      "source": [
        "### Cross Validation score"
      ]
    },
    {
      "cell_type": "code",
      "metadata": {
        "id": "P9OD0PHXDLHa"
      },
      "source": [
        "from sklearn.model_selection import cross_val_score"
      ],
      "execution_count": null,
      "outputs": []
    },
    {
      "cell_type": "code",
      "metadata": {
        "id": "2BBXgow3Cfc7"
      },
      "source": [
        "scores = cross_val_score(forest_reg, X, y,\n",
        "                        scoring=\"neg_mean_squared_error\", cv=5)\n",
        "forest_rmse_scores = np.sqrt(-scores)\n",
        "\n"
      ],
      "execution_count": null,
      "outputs": []
    },
    {
      "cell_type": "code",
      "metadata": {
        "id": "lI9-jSOPGodR",
        "outputId": "f916a67b-9778-4bf4-c015-3bf33b43b1f3",
        "colab": {
          "base_uri": "https://localhost:8080/",
          "height": 68
        }
      },
      "source": [
        "display_scores(forest_rmse_scores)"
      ],
      "execution_count": null,
      "outputs": [
        {
          "output_type": "stream",
          "text": [
            "Scores: [14.53965917 14.54176831 14.55168992 14.55162419 14.57915762]\n",
            "Mean: 14.552779842130303\n",
            "Standard deviation: 0.01408344271099837\n"
          ],
          "name": "stdout"
        }
      ]
    },
    {
      "cell_type": "code",
      "metadata": {
        "id": "sTRehkdLrAPf",
        "outputId": "04f1bd91-6e9b-4110-f8aa-bf217ff0dd61",
        "colab": {
          "base_uri": "https://localhost:8080/",
          "height": 85
        }
      },
      "source": [
        "# Feature Importance\n",
        "for name, score in zip(X.columns, forest_reg.feature_importances_):\n",
        "    print(name, score)"
      ],
      "execution_count": null,
      "outputs": [
        {
          "output_type": "stream",
          "text": [
            "seller 0.17400964032490265\n",
            "item 0.6349648433892411\n",
            "day 0.062138503649429924\n",
            "month 0.12888701263642632\n"
          ],
          "name": "stdout"
        }
      ]
    },
    {
      "cell_type": "markdown",
      "metadata": {
        "id": "uhTHCXFpQmKI"
      },
      "source": [
        "## **SVM**"
      ]
    },
    {
      "cell_type": "code",
      "metadata": {
        "id": "K0ftn_92rAPx"
      },
      "source": [
        "from sklearn.svm import LinearSVR\n",
        "svr_reg = LinearSVR(random_state=42, epsilon=1)"
      ],
      "execution_count": null,
      "outputs": []
    },
    {
      "cell_type": "code",
      "metadata": {
        "id": "v7nJR4BD1Tvr"
      },
      "source": [
        "scaler = StandardScaler()\n",
        "X_scaler = scaler.fit_transform(X)\n",
        "# scaler in LinearSVR affect on result"
      ],
      "execution_count": null,
      "outputs": []
    },
    {
      "cell_type": "code",
      "metadata": {
        "id": "3IWdSDQXrAPy",
        "outputId": "a45e29f8-d1ad-4d35-86cd-045ddcaa4e68",
        "colab": {
          "base_uri": "https://localhost:8080/",
          "height": 102
        }
      },
      "source": [
        "svr_reg.fit(X, y)"
      ],
      "execution_count": null,
      "outputs": [
        {
          "output_type": "stream",
          "text": [
            "/usr/local/lib/python3.6/dist-packages/sklearn/svm/_base.py:947: ConvergenceWarning: Liblinear failed to converge, increase the number of iterations.\n",
            "  \"the number of iterations.\", ConvergenceWarning)\n"
          ],
          "name": "stderr"
        },
        {
          "output_type": "execute_result",
          "data": {
            "text/plain": [
              "LinearSVR(C=1.0, dual=True, epsilon=1.5, fit_intercept=True,\n",
              "          intercept_scaling=1.0, loss='epsilon_insensitive', max_iter=1000,\n",
              "          random_state=42, tol=0.0001, verbose=0)"
            ]
          },
          "metadata": {
            "tags": []
          },
          "execution_count": 69
        }
      ]
    },
    {
      "cell_type": "code",
      "metadata": {
        "id": "cBMvBPwlrAP1"
      },
      "source": [
        "svr_pred = svr_reg.predict(some_data)"
      ],
      "execution_count": null,
      "outputs": []
    },
    {
      "cell_type": "code",
      "metadata": {
        "id": "o-xPTTG7rAP2",
        "outputId": "1a1047c2-5377-426f-e7a6-a53029d437fc",
        "colab": {
          "base_uri": "https://localhost:8080/",
          "height": 34
        }
      },
      "source": [
        "print(np.sqrt(mean_squared_error(some_labels, svr_pred)))"
      ],
      "execution_count": null,
      "outputs": [
        {
          "output_type": "stream",
          "text": [
            "24.363687036059908\n"
          ],
          "name": "stdout"
        }
      ]
    },
    {
      "cell_type": "code",
      "metadata": {
        "id": "cYErUrLkrAP4"
      },
      "source": [
        "# last error: 24.061, 46.504, 20.772"
      ],
      "execution_count": null,
      "outputs": []
    },
    {
      "cell_type": "code",
      "metadata": {
        "id": "fPzj-IYErAP6",
        "outputId": "d04e2e71-0dbc-484c-e298-65c698cf4099",
        "colab": {
          "base_uri": "https://localhost:8080/",
          "height": 34
        }
      },
      "source": [
        "smape(some_labels, svr_pred)"
      ],
      "execution_count": null,
      "outputs": [
        {
          "output_type": "execute_result",
          "data": {
            "text/plain": [
              "44.157667265720434"
            ]
          },
          "metadata": {
            "tags": []
          },
          "execution_count": 72
        }
      ]
    },
    {
      "cell_type": "code",
      "metadata": {
        "id": "BMK4bDH3rAP8"
      },
      "source": [
        "# last error: 43.304, 48.120, 38.910"
      ],
      "execution_count": null,
      "outputs": []
    },
    {
      "cell_type": "code",
      "metadata": {
        "id": "iDzcL8FOrAP9"
      },
      "source": [
        ""
      ],
      "execution_count": null,
      "outputs": []
    },
    {
      "cell_type": "markdown",
      "metadata": {
        "id": "HDvHGPCdnVLK"
      },
      "source": [
        "### Randomized Search CV"
      ]
    },
    {
      "cell_type": "code",
      "metadata": {
        "id": "MW9jaMgvpV1F"
      },
      "source": [
        "from sklearn.svm import SVR\n",
        "from sklearn.model_selection import RandomizedSearchCV\n",
        "from scipy.stats import reciprocal, uniform"
      ],
      "execution_count": null,
      "outputs": []
    },
    {
      "cell_type": "code",
      "metadata": {
        "id": "xupCNLq_nTTO"
      },
      "source": [
        "param_distributions = {\"gamma\": reciprocal(0.001, 0.1), \"C\": uniform(1, 10)}\n",
        "rnd_search_cv = RandomizedSearchCV(SVR(), param_distributions, n_iter=10, verbose=2, cv=3, random_state=42)\n",
        "rnd_search_cv.fit(X_scaler, y)"
      ],
      "execution_count": null,
      "outputs": []
    },
    {
      "cell_type": "code",
      "metadata": {
        "id": "mN_jGYSOniU5"
      },
      "source": [
        "rnd_search_pred = rnd_search_cv.predict(some_data)"
      ],
      "execution_count": null,
      "outputs": []
    },
    {
      "cell_type": "code",
      "metadata": {
        "id": "3mz3IY81niXx"
      },
      "source": [
        "print(np.sqrt(mean_squared_error(some_labels, rnd_search_pred)))"
      ],
      "execution_count": null,
      "outputs": []
    },
    {
      "cell_type": "code",
      "metadata": {
        "id": "xqCDWDkTnsjd"
      },
      "source": [
        "# last error: "
      ],
      "execution_count": null,
      "outputs": []
    },
    {
      "cell_type": "code",
      "metadata": {
        "id": "l3k6iXRLnszB"
      },
      "source": [
        "smape(some_labels, rnd_search_pred)"
      ],
      "execution_count": null,
      "outputs": []
    },
    {
      "cell_type": "code",
      "metadata": {
        "id": "-NrXj8TYn1Y5"
      },
      "source": [
        "# last error: "
      ],
      "execution_count": null,
      "outputs": []
    },
    {
      "cell_type": "markdown",
      "metadata": {
        "id": "2BCOiOhuRegW"
      },
      "source": [
        "## XGRegressor"
      ]
    },
    {
      "cell_type": "code",
      "metadata": {
        "id": "tBl1FA0irAP_"
      },
      "source": [
        "from xgboost import XGBRegressor\n",
        "xg_reg = XGBRegressor(random_state=42)"
      ],
      "execution_count": null,
      "outputs": []
    },
    {
      "cell_type": "code",
      "metadata": {
        "id": "sBlmRvwXrAQD",
        "outputId": "45beab80-4ef6-4a75-b948-0849e718c74a",
        "colab": {
          "base_uri": "https://localhost:8080/",
          "height": 153
        }
      },
      "source": [
        "xg_reg.fit(X,y)"
      ],
      "execution_count": null,
      "outputs": [
        {
          "output_type": "stream",
          "text": [
            "[08:14:06] WARNING: /workspace/src/objective/regression_obj.cu:152: reg:linear is now deprecated in favor of reg:squarederror.\n"
          ],
          "name": "stdout"
        },
        {
          "output_type": "execute_result",
          "data": {
            "text/plain": [
              "XGBRegressor(base_score=0.5, booster='gbtree', colsample_bylevel=1,\n",
              "             colsample_bynode=1, colsample_bytree=1, gamma=0,\n",
              "             importance_type='gain', learning_rate=0.1, max_delta_step=0,\n",
              "             max_depth=3, min_child_weight=1, missing=None, n_estimators=100,\n",
              "             n_jobs=1, nthread=None, objective='reg:linear', random_state=42,\n",
              "             reg_alpha=0, reg_lambda=1, scale_pos_weight=1, seed=None,\n",
              "             silent=None, subsample=1, verbosity=1)"
            ]
          },
          "metadata": {
            "tags": []
          },
          "execution_count": 76
        }
      ]
    },
    {
      "cell_type": "code",
      "metadata": {
        "id": "G1gQK9NLrAQF",
        "outputId": "863ae73e-1532-4f8b-f882-cc3b4a0953f4",
        "colab": {
          "base_uri": "https://localhost:8080/",
          "height": 34
        }
      },
      "source": [
        "xgb_pred = xg_reg.predict(some_data)\n",
        "print(\"prediction XGBRegressor:\", xgb_pred)"
      ],
      "execution_count": null,
      "outputs": [
        {
          "output_type": "stream",
          "text": [
            "prediction XGBRegressor: [34.136402 43.40447  31.066113 68.79671  45.223118]\n"
          ],
          "name": "stdout"
        }
      ]
    },
    {
      "cell_type": "code",
      "metadata": {
        "id": "0WX3CoviqNb-",
        "outputId": "9fd76390-52ed-4498-ef5c-6f06204deee8",
        "colab": {
          "base_uri": "https://localhost:8080/",
          "height": 34
        }
      },
      "source": [
        "print(\"Labels: \", list(some_labels))"
      ],
      "execution_count": null,
      "outputs": [
        {
          "output_type": "stream",
          "text": [
            "Labels:  [33, 22, 17, 99, 49]\n"
          ],
          "name": "stdout"
        }
      ]
    },
    {
      "cell_type": "code",
      "metadata": {
        "id": "9mYwKlGUrZf4",
        "outputId": "889f4434-1742-4b99-a42a-9b0ebd074145",
        "colab": {
          "base_uri": "https://localhost:8080/",
          "height": 34
        }
      },
      "source": [
        "print(np.sqrt(mean_squared_error(some_labels, xgb_pred)))"
      ],
      "execution_count": null,
      "outputs": [
        {
          "output_type": "stream",
          "text": [
            "17.797763579868995\n"
          ],
          "name": "stdout"
        }
      ]
    },
    {
      "cell_type": "code",
      "metadata": {
        "id": "PPQtQUTFrZim"
      },
      "source": [
        "# Last Error: 17.7977"
      ],
      "execution_count": null,
      "outputs": []
    },
    {
      "cell_type": "code",
      "metadata": {
        "id": "RD5xL3jwrZpS",
        "outputId": "4128ab48-79d8-4d13-f944-121580daecd9",
        "colab": {
          "base_uri": "https://localhost:8080/",
          "height": 34
        }
      },
      "source": [
        "smape(some_labels,xgb_pred)"
      ],
      "execution_count": null,
      "outputs": [
        {
          "output_type": "execute_result",
          "data": {
            "text/plain": [
              "34.27658284948385"
            ]
          },
          "metadata": {
            "tags": []
          },
          "execution_count": 82
        }
      ]
    },
    {
      "cell_type": "code",
      "metadata": {
        "id": "qCBOumzerZ2V"
      },
      "source": [
        "# Last Error : 34.2765"
      ],
      "execution_count": null,
      "outputs": []
    }
  ]
}